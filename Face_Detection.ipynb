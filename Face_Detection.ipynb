{
 "cells": [
  {
   "cell_type": "raw",
   "metadata": {},
   "source": [
    "download these files that help to detect each parts of body\n",
    "\n",
    "~/OpenCV/opencv/data/haarcascades$ ls\n",
    "\n",
    "haarcascade_eye_tree_eyeglasses.xml   haarcascade_mcs_leftear.xml\n",
    "haarcascade_eye.xml                   haarcascade_mcs_lefteye.xml\n",
    "haarcascade_frontalface_alt2.xml      haarcascade_mcs_mouth.xml\n",
    "haarcascade_frontalface_alt_tree.xml  haarcascade_mcs_nose.xml\n",
    "haarcascade_frontalface_alt.xml       haarcascade_mcs_rightear.xml\n",
    "haarcascade_frontalface_default.xml   haarcascade_mcs_righteye.xml\n",
    "haarcascade_fullbody.xml              haarcascade_mcs_upperbody.xml\n",
    "haarcascade_lefteye_2splits.xml       haarcascade_profileface.xml\n",
    "haarcascade_lowerbody.xml             haarcascade_righteye_2splits.xml\n",
    "haarcascade_mcs_eyepair_big.xml       haarcascade_smile.xml\n",
    "haarcascade_mcs_eyepair_small.xml     haarcascade_upperbody.xml"
   ]
  },
  {
   "cell_type": "code",
   "execution_count": 44,
   "metadata": {},
   "outputs": [
    {
     "name": "stdout",
     "output_type": "stream",
     "text": [
      "Requirement already satisfied: pillow in c:\\users\\admin\\anaconda3\\lib\\site-packages (5.3.0)\n"
     ]
    }
   ],
   "source": [
    "!pip install pillow"
   ]
  },
  {
   "cell_type": "markdown",
   "metadata": {},
   "source": [
    "## Code for detect `face,eye,nose,mouth`"
   ]
  },
  {
   "cell_type": "code",
   "execution_count": 7,
   "metadata": {},
   "outputs": [],
   "source": [
    "import cv2\n",
    "\n",
    "def draw_boundary(img, classifier, scaleFactor, minNeighbors, color, text):  #clf content classifier\n",
    "    gray_img = cv2.cvtColor(img, cv2.COLOR_BGR2GRAY)\n",
    "    features = classifier.detectMultiScale(gray_img, scaleFactor, minNeighbors)\n",
    "    coords = []\n",
    "    for (x, y, w, h) in features:\n",
    "        cv2.rectangle(img, (x, y), (x+w, y+h), color, 2)  # 2 is thickness of img rectangle\n",
    "        cv2.putText(img, text, (x, y-4), cv2.FONT_HERSHEY_SIMPLEX, 0.8, color, 1, cv2.LINE_AA)\n",
    "        coords = [x, y, w, h]\n",
    "    return coords\n",
    "\n",
    "\n",
    "\n",
    "def detect(img, faceCascade, eyeCascade, eyepairCascade, mouthCascade, noseCascade):\n",
    "    color = {\"blue\":(255,0,0), \"red\":(0,0,255), \"green\":(0,255,0), \"white\":(255,255,255), \"lightred\":(48, 48, 48)}\n",
    "    coords = draw_boundary(img, faceCascade, 1.1, 10, color['blue'], \"Face\")\n",
    "    \n",
    "    if len(coords) == 4:\n",
    "        roi_img = img[coords[2]:coords[1]+coords[3], coords[0]:coords[0]+coords[2]]\n",
    "        coords= draw_boundary(roi_img, eyeCascade, 1.1, 14, color['red'], \"Eyes\")\n",
    "        coords= draw_boundary(roi_img, eyepairCascade, 1.1, 10, color['lightred'], \"pair\")\n",
    "        coords= draw_boundary(roi_img, mouthCascade, 1.1, 20, color['green'], \"Mouth\")\n",
    "        coords= draw_boundary(roi_img, noseCascade, 1.1, 5, color['white'], \"Nose\")\n",
    "        \n",
    "        \n",
    "    return img\n",
    "\n",
    "\n",
    "\n",
    "video_capture = cv2.VideoCapture(0)  # 0 for computer camera\n",
    "# -1 or 1 for other camera\n",
    "\n",
    "faceCascade = cv2.CascadeClassifier('haarcascade_frontalface_default.xml')\n",
    "eyeCascade = cv2.CascadeClassifier('haarcascade_eye.xml')\n",
    "eyepairCascade = cv2.CascadeClassifier('haarcascade_mcs_eyepair_big.xml')\n",
    "mouthCascade = cv2.CascadeClassifier('haarcascade_mcs_mouth.xml')\n",
    "noseCascade = cv2.CascadeClassifier('haarcascade_mcs_nose.xml')\n",
    "\n",
    "\n",
    "while True:\n",
    "    _, img = video_capture.read()\n",
    "    img = detect(img,  faceCascade, eyeCascade, eyepairCascade, mouthCascade, noseCascade)\n",
    "    cv2.imshow(\"face detection\", img)\n",
    "    if cv2.waitKey(1) & 0xFF == ord('q'):  # stop from execution or quit(q)\n",
    "        break\n",
    "video_capture.release()\n",
    "cv2.destroyAllWindows()"
   ]
  },
  {
   "cell_type": "code",
   "execution_count": null,
   "metadata": {},
   "outputs": [],
   "source": []
  },
  {
   "cell_type": "code",
   "execution_count": null,
   "metadata": {},
   "outputs": [],
   "source": []
  },
  {
   "cell_type": "markdown",
   "metadata": {},
   "source": [
    "## Code for Image-Capture"
   ]
  },
  {
   "cell_type": "code",
   "execution_count": 8,
   "metadata": {},
   "outputs": [],
   "source": [
    "import cv2\n",
    "\n",
    "def generate_dataset(img, id1, img_id):\n",
    "    cv2.imwrite(\"data/user.\"+str(id1)+\".\"+str(img_id)+\".jpg\", img)\n",
    "\n",
    "def draw_boundary(img, classifier, scaleFactor, minNeighbors, color, text):  #clf content classifier\n",
    "    gray_img = cv2.cvtColor(img, cv2.COLOR_BGR2GRAY)\n",
    "    features = classifier.detectMultiScale(gray_img, scaleFactor, minNeighbors)\n",
    "    coords = []\n",
    "    for (x, y, w, h) in features:\n",
    "        cv2.rectangle(img, (x, y), (x+w, y+h), color, 2)  # 2 is thickness of img rectangle\n",
    "#         id1, _ = clf.predict(gray_img[y:y+h, x:x+w])\n",
    "        cv2.putText(img, text, (x, y-4), cv2.FONT_HERSHEY_SIMPLEX, 0.8, color, 1, cv2.LINE_AA)\n",
    "        coords = [x, y, w, h]\n",
    "    return coords\n",
    "\n",
    "# def recognize(clf, img, faceCascade):\n",
    "#     color = {\"blue\":(255,0,0), \"red\":(0,0,255), \"lightred2\":(255, 51, 51), \"green\":(0,255,0), \"white\":(255,255,255), \"lightred\":(48, 48, 48)}\n",
    "#     coords = draw_boundary(img, faceCascade, 1.1, 10, color['lightred2'], \"Face\", clf)\n",
    "#     return img\n",
    "\n",
    "\n",
    "def detect(img, faceCascade, eyeCascade, eyepairCascade, mouthCascade, noseCascade, img_id):\n",
    "    color = {\"blue\":(255,0,0), \"red\":(0,0,255), \"green\":(0,255,0), \"white\":(255,255,255), \"lightred\":(48, 48, 48)}\n",
    "    coords = draw_boundary(img, faceCascade, 1.1, 10, color['blue'], \"Face\")\n",
    "    \n",
    "    if len(coords) == 4:\n",
    "        roi_img = img[coords[2]:coords[1]+coords[3], coords[0]:coords[0]+coords[2]]\n",
    "        user_id = 1\n",
    "        generate_dataset(roi_img, user_id, img_id)\n",
    "#         coords= draw_boundary(roi_img, eyeCascade, 1.1, 14, color['red'], \"Eyes\")\n",
    "#         coords= draw_boundary(roi_img, eyepairCascade, 1.1, 10, color['lightred'], \"pair\")\n",
    "#         coords= draw_boundary(roi_img, mouthCascade, 1.1, 20, color['green'], \"Mouth\")\n",
    "#         coords= draw_boundary(roi_img, noseCascade, 1.1, 5, color['white'], \"Nose\")\n",
    "        \n",
    "        \n",
    "    return img\n",
    "\n",
    "\n",
    "faceCascade = cv2.CascadeClassifier('haarcascade_frontalface_default.xml')\n",
    "eyeCascade = cv2.CascadeClassifier('haarcascade_eye.xml')\n",
    "eyepairCascade = cv2.CascadeClassifier('haarcascade_mcs_eyepair_big.xml')\n",
    "mouthCascade = cv2.CascadeClassifier('haarcascade_mcs_mouth.xml')\n",
    "noseCascade = cv2.CascadeClassifier('haarcascade_mcs_nose.xml')\n",
    "\n",
    "video_capture = cv2.VideoCapture(0)  # 0 for computer camera\n",
    "# -1 or 1 for other camera\n",
    "img_id=0\n",
    "\n",
    "\n",
    "while True:\n",
    "    _, img = video_capture.read()\n",
    "    img = detect(img,  faceCascade, eyeCascade, eyepairCascade, mouthCascade, noseCascade, img_id)\n",
    "    cv2.imshow(\"face detection\", img)\n",
    "    img_id += 1\n",
    "    if cv2.waitKey(1) & 0xFF == ord('q'):  # stop from execution or quit(q)\n",
    "        break\n",
    "video_capture.release()\n",
    "cv2.destroyAllWindows()"
   ]
  },
  {
   "cell_type": "code",
   "execution_count": null,
   "metadata": {},
   "outputs": [],
   "source": []
  },
  {
   "cell_type": "markdown",
   "metadata": {},
   "source": [
    "## Code for Image-Recoganization\n",
    " need to import train_test classifier"
   ]
  },
  {
   "cell_type": "code",
   "execution_count": 9,
   "metadata": {},
   "outputs": [],
   "source": [
    "import cv2\n",
    "\n",
    "def generate_dataset(img, id1, img_id):\n",
    "    cv2.imwrite(\"data/user.\"+str(id1)+\".\"+str(img_id)+\".jpg\", img)\n",
    "\n",
    "def draw_boundary(img, classifier, scaleFactor, minNeighbors, color, text, clf):  #clf content classifier\n",
    "    gray_img = cv2.cvtColor(img, cv2.COLOR_BGR2GRAY)\n",
    "    features = classifier.detectMultiScale(gray_img, scaleFactor, minNeighbors)\n",
    "    coords = []\n",
    "    for (x, y, w, h) in features:\n",
    "        cv2.rectangle(img, (x, y), (x+w, y+h), color, 2)  # 2 is thickness of img rectangle\n",
    "        id1, _ = clf.predict(gray_img[y:y+h, x:x+w])\n",
    "        if id1==1:\n",
    "            cv2.putText(img, \"Ashish\", (x, y-4), cv2.FONT_HERSHEY_SIMPLEX, 0.8, color, 1, cv2.LINE_AA)\n",
    "#         coords = [x, y, w, h]\n",
    "    return coords\n",
    "\n",
    "def recognize(clf, img, faceCascade):\n",
    "    color = {\"blue\":(255,0,0), \"red\":(0,0,255), \"lightred2\":(255, 51, 51), \"green\":(0,255,0), \"white\":(255,255,255), \"lightred\":(48, 48, 48)}\n",
    "    coords = draw_boundary(img, faceCascade, 1.1, 10, color['lightred2'], \"Face\", clf)\n",
    "    return img\n",
    "\n",
    "\n",
    "def detect(img, faceCascade, eyeCascade, eyepairCascade, mouthCascade, noseCascade, img_id):\n",
    "    color = {\"blue\":(255,0,0), \"red\":(0,0,255), \"green\":(0,255,0), \"white\":(255,255,255), \"lightred\":(48, 48, 48)}\n",
    "    coords = draw_boundary(img, faceCascade, 1.1, 10, color['blue'], \"Face\")\n",
    "    \n",
    "    if len(coords) == 4:\n",
    "        roi_img = img[coords[2]:coords[1]+coords[3], coords[0]:coords[0]+coords[2]]\n",
    "        user_id = 1\n",
    "        generate_dataset(roi_img, user_id, img_id)\n",
    "#         coords= draw_boundary(roi_img, eyeCascade, 1.1, 14, color['red'], \"Eyes\")\n",
    "#         coords= draw_boundary(roi_img, eyepairCascade, 1.1, 10, color['lightred'], \"pair\")\n",
    "#         coords= draw_boundary(roi_img, mouthCascade, 1.1, 20, color['green'], \"Mouth\")\n",
    "#         coords= draw_boundary(roi_img, noseCascade, 1.1, 5, color['white'], \"Nose\")\n",
    "        \n",
    "        \n",
    "    return img\n",
    "\n",
    "\n",
    "faceCascade = cv2.CascadeClassifier('haarcascade_frontalface_default.xml')\n",
    "eyeCascade = cv2.CascadeClassifier('haarcascade_eye.xml')\n",
    "eyepairCascade = cv2.CascadeClassifier('haarcascade_mcs_eyepair_big.xml')\n",
    "mouthCascade = cv2.CascadeClassifier('haarcascade_mcs_mouth.xml')\n",
    "noseCascade = cv2.CascadeClassifier('haarcascade_mcs_nose.xml')\n",
    "\n",
    "clf = cv2.face.LBPHFaceRecognizer_create()\n",
    "clf.read(\"classifier.yml\")\n",
    "\n",
    "video_capture = cv2.VideoCapture(0)  # 0 for computer camera\n",
    "# -1 or 1 for other camera\n",
    "img_id=0\n",
    "\n",
    "\n",
    "while True:\n",
    "    _, img = video_capture.read()\n",
    "    # img = detect(img,  faceCascade, eyeCascade, eyepairCascade, mouthCascade, noseCascade, img_id)\n",
    "    img = recognize(clf, img, faceCascade)  \n",
    "    cv2.imshow(\"face detection\", img)\n",
    "    img_id += 1\n",
    "    if cv2.waitKey(1) & 0xFF == ord('q'):  # stop from execution or quit(q)\n",
    "        break\n",
    "video_capture.release()\n",
    "cv2.destroyAllWindows()"
   ]
  },
  {
   "cell_type": "code",
   "execution_count": null,
   "metadata": {},
   "outputs": [],
   "source": []
  },
  {
   "cell_type": "code",
   "execution_count": null,
   "metadata": {},
   "outputs": [],
   "source": []
  },
  {
   "cell_type": "code",
   "execution_count": null,
   "metadata": {},
   "outputs": [],
   "source": []
  },
  {
   "cell_type": "code",
   "execution_count": null,
   "metadata": {},
   "outputs": [],
   "source": []
  },
  {
   "cell_type": "code",
   "execution_count": null,
   "metadata": {},
   "outputs": [],
   "source": []
  },
  {
   "cell_type": "code",
   "execution_count": null,
   "metadata": {},
   "outputs": [],
   "source": []
  },
  {
   "cell_type": "code",
   "execution_count": null,
   "metadata": {},
   "outputs": [],
   "source": []
  },
  {
   "cell_type": "code",
   "execution_count": null,
   "metadata": {},
   "outputs": [],
   "source": []
  },
  {
   "cell_type": "code",
   "execution_count": null,
   "metadata": {},
   "outputs": [],
   "source": []
  },
  {
   "cell_type": "code",
   "execution_count": null,
   "metadata": {},
   "outputs": [],
   "source": []
  },
  {
   "cell_type": "code",
   "execution_count": null,
   "metadata": {},
   "outputs": [],
   "source": []
  },
  {
   "cell_type": "code",
   "execution_count": null,
   "metadata": {},
   "outputs": [],
   "source": []
  },
  {
   "cell_type": "code",
   "execution_count": null,
   "metadata": {},
   "outputs": [],
   "source": []
  }
 ],
 "metadata": {
  "kernelspec": {
   "display_name": "Python 3",
   "language": "python",
   "name": "python3"
  },
  "language_info": {
   "codemirror_mode": {
    "name": "ipython",
    "version": 3
   },
   "file_extension": ".py",
   "mimetype": "text/x-python",
   "name": "python",
   "nbconvert_exporter": "python",
   "pygments_lexer": "ipython3",
   "version": "3.7.1"
  }
 },
 "nbformat": 4,
 "nbformat_minor": 2
}
